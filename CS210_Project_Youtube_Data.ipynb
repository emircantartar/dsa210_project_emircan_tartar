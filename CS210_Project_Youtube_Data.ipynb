{
  "nbformat": 4,
  "nbformat_minor": 0,
  "metadata": {
    "colab": {
      "provenance": []
    },
    "kernelspec": {
      "name": "python3",
      "display_name": "Python 3"
    },
    "language_info": {
      "name": "python"
    }
  },
  "cells": [
    {
      "cell_type": "code",
      "execution_count": null,
      "metadata": {
        "colab": {
          "base_uri": "https://localhost:8080/"
        },
        "id": "BgjB9GDbjnOS",
        "outputId": "62ea3d5e-c755-404c-a4d9-2bf71ee3f62b"
      },
      "outputs": [
        {
          "output_type": "stream",
          "name": "stdout",
          "text": [
            "Mounted at /content/drive\n"
          ]
        }
      ],
      "source": [
        "from google.colab import drive\n",
        "drive.mount('/content/drive')\n"
      ]
    },
    {
      "cell_type": "code",
      "source": [
        "import json\n",
        "import pandas as pd\n",
        "\n",
        "file_path = '/content/drive/My Drive/youtube_history.json'\n",
        "\n",
        "with open(file_path, 'r', encoding='utf-8') as file:\n",
        "    data = json.load(file)\n"
      ],
      "metadata": {
        "id": "XPuLD4fDjxGx"
      },
      "execution_count": null,
      "outputs": []
    },
    {
      "cell_type": "code",
      "source": [
        "\n",
        "# Step 3: Create a DataFrame\n",
        "df = pd.DataFrame(data)\n",
        "\n",
        "# Step 4: Extract relevant fields with handling for missing subtitles\n",
        "df['video_title'] = df['title']\n",
        "df['video_url'] = df['titleUrl']\n",
        "df['channel_name'] = df['subtitles'].apply(lambda x: x[0]['name'] if isinstance(x, list) and len(x) > 0 else None)\n",
        "\n",
        "# Step 5: Convert time to datetime, using format='mixed' to handle variations\n",
        "df['watch_time'] = pd.to_datetime(df['time'], format='mixed')\n",
        "\n",
        "# Step 6: Keep only relevant columns\n",
        "df = df[['watch_time', 'video_title', 'video_url', 'channel_name']]\n",
        "\n",
        "# Step 7: Save the cleaned data to Google Drive as a CSV file\n",
        "save_path = '/content/drive/My Drive/youtube_data_cleaned.csv'\n",
        "df.to_csv(save_path, index=False)\n",
        "\n",
        "# Optional: Display the first few rows to verify\n",
        "print(df.head())\n",
        "\n"
      ],
      "metadata": {
        "colab": {
          "base_uri": "https://localhost:8080/"
        },
        "id": "TaFTVxLqkRwL",
        "outputId": "de299058-e24f-408a-9140-fab60c76b34b"
      },
      "execution_count": null,
      "outputs": [
        {
          "output_type": "stream",
          "name": "stdout",
          "text": [
            "                        watch_time  \\\n",
            "0 2024-10-29 13:10:36.016000+00:00   \n",
            "1 2024-10-29 13:04:12.065000+00:00   \n",
            "2 2024-10-28 09:15:34.248000+00:00   \n",
            "3 2024-10-27 21:55:14.267000+00:00   \n",
            "4 2024-10-27 21:54:59.043000+00:00   \n",
            "\n",
            "                                         video_title  \\\n",
            "0  ERAY ile KÜFÜRSÜZ KAMP - Cin çağırdık kanki ad...   \n",
            "1     MÜMTAZ REİS EV ZİYARETİ adlı videoyu izlediniz   \n",
            "2  JAHREİN CANAVAR SAMET EV ZİYARETİ İZLİYOR adlı...   \n",
            "3   CANAVAR SAMET EV ZİYARETİ adlı videoyu izlediniz   \n",
            "4                          yayın yayını görüntülendi   \n",
            "\n",
            "                                           video_url   channel_name  \n",
            "0        https://www.youtube.com/watch?v=6ErUQehwucY  Mevtcan Bahav  \n",
            "1        https://www.youtube.com/watch?v=V__l5xCh6C8   testo taylan  \n",
            "2        https://www.youtube.com/watch?v=-c5-wvAmBJs      Jahistan   \n",
            "3        https://www.youtube.com/watch?v=4AWamIlcvQk   testo taylan  \n",
            "4  https://www.youtube.com/post/Ugkx6bZyomdO2qKvj...   testo taylan  \n"
          ]
        }
      ]
    }
  ]
}